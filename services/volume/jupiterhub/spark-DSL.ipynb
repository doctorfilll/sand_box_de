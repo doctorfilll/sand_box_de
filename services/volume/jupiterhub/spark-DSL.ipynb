{
 "cells": [
  {
   "cell_type": "code",
   "execution_count": 1,
   "id": "aacec94e-2cf5-4b91-8231-86ea13922c2a",
   "metadata": {},
   "outputs": [],
   "source": [
    "import os\n",
    "os.environ['PYSPARK_SUBMIT_ARGS'] = '--packages org.postgresql:postgresql:42.2.19 pyspark-shell'\n",
    "\n",
    "from time import sleep\n",
    "\n",
    "from pyspark.sql import SparkSession\n",
    "from pyspark.sql.functions import *\n",
    "from pyspark.sql import functions as F"
   ]
  },
  {
   "cell_type": "code",
   "execution_count": 4,
   "id": "71586f21-0b79-44dd-9828-0dc2c5a627f1",
   "metadata": {},
   "outputs": [],
   "source": [
    "spark = SparkSession. \\\n",
    "    builder.config(\"spark.driver.host\", \"localhost\"). \\\n",
    "    appName(\"Spark DSL\"). \\\n",
    "    master(\"local\"). \\\n",
    "    config(\"spark.sql.legacy.timeParserPolicy\", \"LEGACY\"). \\\n",
    "    getOrCreate()"
   ]
  },
  {
   "cell_type": "code",
   "execution_count": 5,
   "id": "7df25b9b-2893-4e10-b8b8-44fec234c643",
   "metadata": {},
   "outputs": [],
   "source": [
    "movies_df = spark.read.json(\"data/movies\")"
   ]
  },
  {
   "cell_type": "markdown",
   "id": "f01639ea-0aad-4826-9a1f-490d450b0186",
   "metadata": {},
   "source": [
    "# Aggregations"
   ]
  },
  {
   "cell_type": "markdown",
   "id": "c1508fc9-6368-4e47-af47-e458d4dd2b6b",
   "metadata": {},
   "source": [
    "## Counting"
   ]
  },
  {
   "cell_type": "code",
   "execution_count": 6,
   "id": "de35ff43-4924-4a0d-a017-48d4ea0a3d01",
   "metadata": {},
   "outputs": [
    {
     "name": "stdout",
     "output_type": "stream",
     "text": [
      "root\n",
      " |-- Creative_Type: string (nullable = true)\n",
      " |-- Director: string (nullable = true)\n",
      " |-- Distributor: string (nullable = true)\n",
      " |-- IMDB_Rating: double (nullable = true)\n",
      " |-- IMDB_Votes: long (nullable = true)\n",
      " |-- MPAA_Rating: string (nullable = true)\n",
      " |-- Major_Genre: string (nullable = true)\n",
      " |-- Production_Budget: long (nullable = true)\n",
      " |-- Release_Date: string (nullable = true)\n",
      " |-- Rotten_Tomatoes_Rating: long (nullable = true)\n",
      " |-- Running_Time_min: long (nullable = true)\n",
      " |-- Source: string (nullable = true)\n",
      " |-- Title: string (nullable = true)\n",
      " |-- US_DVD_Sales: long (nullable = true)\n",
      " |-- US_Gross: long (nullable = true)\n",
      " |-- Worldwide_Gross: long (nullable = true)\n",
      "\n"
     ]
    }
   ],
   "source": [
    "movies_df.printSchema()"
   ]
  },
  {
   "cell_type": "code",
   "execution_count": 6,
   "id": "0332ed68-5c57-4f5b-a122-4faded0c9f00",
   "metadata": {},
   "outputs": [],
   "source": [
    "# NULL значения не участвуют в подсчете\n",
    "all_movies_count_df = movies_df.selectExpr(\"count(Major_Genre)\")\n"
   ]
  },
  {
   "cell_type": "code",
   "execution_count": 7,
   "id": "04e343c2-a0ea-49f1-a717-4257d59951f5",
   "metadata": {},
   "outputs": [
    {
     "name": "stdout",
     "output_type": "stream",
     "text": [
      "+------------------+\n",
      "|count(Major_Genre)|\n",
      "+------------------+\n",
      "|              2926|\n",
      "+------------------+\n",
      "\n"
     ]
    }
   ],
   "source": [
    "all_movies_count_df.show()"
   ]
  },
  {
   "cell_type": "code",
   "execution_count": 8,
   "id": "4004e879-db0f-4435-b77b-75dd641d83bc",
   "metadata": {},
   "outputs": [
    {
     "name": "stdout",
     "output_type": "stream",
     "text": [
      "== Physical Plan ==\n",
      "AdaptiveSparkPlan isFinalPlan=false\n",
      "+- HashAggregate(keys=[], functions=[count(Major_Genre#14)])\n",
      "   +- Exchange SinglePartition, ENSURE_REQUIREMENTS, [plan_id=46]\n",
      "      +- HashAggregate(keys=[], functions=[partial_count(Major_Genre#14)])\n",
      "         +- FileScan json [Major_Genre#14] Batched: false, DataFilters: [], Format: JSON, Location: InMemoryFileIndex(1 paths)[file:/home/jovyan/notebooks/data/movies], PartitionFilters: [], PushedFilters: [], ReadSchema: struct<Major_Genre:string>\n",
      "\n",
      "\n"
     ]
    }
   ],
   "source": [
    "all_movies_count_df.explain()"
   ]
  },
  {
   "cell_type": "code",
   "execution_count": 9,
   "id": "e72fadd1-d2cf-4623-b456-3efc77adf518",
   "metadata": {
    "tags": []
   },
   "outputs": [
    {
     "name": "stdout",
     "output_type": "stream",
     "text": [
      "+------------------+\n",
      "|count(Major_Genre)|\n",
      "+------------------+\n",
      "|              2926|\n",
      "+------------------+\n",
      "\n"
     ]
    }
   ],
   "source": [
    "# NULL значения не участвуют в подсчете\n",
    "genres_count_df = movies_df.select(count(col(\"Major_Genre\")))\n",
    "genres_count_df.show()"
   ]
  },
  {
   "cell_type": "code",
   "execution_count": 10,
   "id": "9f40c4e2-89b4-46f9-a12f-ce42d6020a52",
   "metadata": {},
   "outputs": [
    {
     "name": "stdout",
     "output_type": "stream",
     "text": [
      "== Physical Plan ==\n",
      "AdaptiveSparkPlan isFinalPlan=false\n",
      "+- HashAggregate(keys=[], functions=[count(Major_Genre#14)])\n",
      "   +- Exchange SinglePartition, ENSURE_REQUIREMENTS, [plan_id=91]\n",
      "      +- HashAggregate(keys=[], functions=[partial_count(Major_Genre#14)])\n",
      "         +- FileScan json [Major_Genre#14] Batched: false, DataFilters: [], Format: JSON, Location: InMemoryFileIndex(1 paths)[file:/home/jovyan/notebooks/data/movies], PartitionFilters: [], PushedFilters: [], ReadSchema: struct<Major_Genre:string>\n",
      "\n",
      "\n"
     ]
    }
   ],
   "source": [
    "genres_count_df.explain()"
   ]
  },
  {
   "cell_type": "code",
   "execution_count": 11,
   "id": "4a6c6479-ec1a-4fe3-9775-b87bfa8259a3",
   "metadata": {},
   "outputs": [
    {
     "name": "stdout",
     "output_type": "stream",
     "text": [
      "+-----------------------+\n",
      "|Общее колличество строк|\n",
      "+-----------------------+\n",
      "|                   3201|\n",
      "+-----------------------+\n",
      "\n"
     ]
    }
   ],
   "source": [
    "# NULL значения включены в подсчет строк\n",
    "genres_count_df = movies_df.select(count(col(\"*\")).alias(\"Общее колличество строк\"))\n",
    "genres_count_df.show()"
   ]
  },
  {
   "cell_type": "code",
   "execution_count": 12,
   "id": "4b2c25f7-b3e3-4323-bcb6-6b93ab3e6965",
   "metadata": {},
   "outputs": [
    {
     "name": "stdout",
     "output_type": "stream",
     "text": [
      "== Physical Plan ==\n",
      "AdaptiveSparkPlan isFinalPlan=false\n",
      "+- HashAggregate(keys=[], functions=[count(1)])\n",
      "   +- Exchange SinglePartition, ENSURE_REQUIREMENTS, [plan_id=145]\n",
      "      +- HashAggregate(keys=[], functions=[partial_count(1)])\n",
      "         +- FileScan json [] Batched: false, DataFilters: [], Format: JSON, Location: InMemoryFileIndex(1 paths)[file:/home/jovyan/notebooks/data/movies], PartitionFilters: [], PushedFilters: [], ReadSchema: struct<>\n",
      "\n",
      "\n"
     ]
    }
   ],
   "source": [
    "genres_count_df.explain()"
   ]
  },
  {
   "cell_type": "code",
   "execution_count": 11,
   "id": "70d9c9a5-bda2-480e-9a6b-1d3253b0713c",
   "metadata": {},
   "outputs": [
    {
     "name": "stdout",
     "output_type": "stream",
     "text": [
      "+----------+\n",
      "|Total_Rows|\n",
      "+----------+\n",
      "|      3201|\n",
      "+----------+\n",
      "\n"
     ]
    }
   ],
   "source": [
    "# NULL значения включены в подсчет строк\n",
    "genres_count_df_v2 = movies_df.selectExpr('count(*) as Total_Rows')\n",
    "genres_count_df_v2.show()"
   ]
  },
  {
   "cell_type": "code",
   "execution_count": 12,
   "id": "ad58e537-e6dc-4fc6-9ec9-2d1ec42ba553",
   "metadata": {},
   "outputs": [],
   "source": [
    "# NULL значения включены в подсчет строк, `.count()` -- Action\n",
    "genres_count_number = movies_df.select(\"Major_Genre\").count()\n",
    "print(\"Общее колличество строк:\", genres_count_number)"
   ]
  },
  {
   "cell_type": "code",
   "execution_count": 11,
   "id": "37d8dc73-1909-41d5-b980-cc0bea43b86a",
   "metadata": {},
   "outputs": [
    {
     "name": "stdout",
     "output_type": "stream",
     "text": [
      "+-----------------------+\n",
      "|Уникальное число жанров|\n",
      "+-----------------------+\n",
      "|                     12|\n",
      "+-----------------------+\n",
      "\n"
     ]
    }
   ],
   "source": [
    "# Подсчет уникальных значений\n",
    "unique_genres_df = movies_df.select(F.countDistinct(F.col(\"Major_Genre\")).alias(\"Уникальное число жанров\"))\n",
    "unique_genres_df.show()"
   ]
  },
  {
   "cell_type": "code",
   "execution_count": 14,
   "id": "60b52d22-1417-4e83-aa90-eb4b07202f98",
   "metadata": {},
   "outputs": [
    {
     "name": "stdout",
     "output_type": "stream",
     "text": [
      "== Physical Plan ==\n",
      "AdaptiveSparkPlan isFinalPlan=false\n",
      "+- HashAggregate(keys=[], functions=[count(distinct Major_Genre#14)])\n",
      "   +- Exchange SinglePartition, ENSURE_REQUIREMENTS, [plan_id=245]\n",
      "      +- HashAggregate(keys=[], functions=[partial_count(distinct Major_Genre#14)])\n",
      "         +- HashAggregate(keys=[Major_Genre#14], functions=[])\n",
      "            +- Exchange hashpartitioning(Major_Genre#14, 200), ENSURE_REQUIREMENTS, [plan_id=241]\n",
      "               +- HashAggregate(keys=[Major_Genre#14], functions=[])\n",
      "                  +- FileScan json [Major_Genre#14] Batched: false, DataFilters: [], Format: JSON, Location: InMemoryFileIndex(1 paths)[file:/home/jovyan/notebooks/data/movies], PartitionFilters: [], PushedFilters: [], ReadSchema: struct<Major_Genre:string>\n",
      "\n",
      "\n"
     ]
    }
   ],
   "source": [
    "unique_genres_df.explain()"
   ]
  },
  {
   "cell_type": "code",
   "execution_count": 14,
   "id": "c3dd95ca-4743-40b2-a7c2-a822be7b5986",
   "metadata": {},
   "outputs": [],
   "source": [
    "unique_genres_df_v2 = movies_df.selectExpr(\"count(DISTINCT Major_Genre) as Number_Of_Unique_Genres\")\n",
    "print(\"COUNT DISTINCT Genre with Expression\")\n",
    "unique_genres_df_v2.show()"
   ]
  },
  {
   "cell_type": "markdown",
   "id": "67ec158e-c0e1-4f6d-b748-97eebf9bef31",
   "metadata": {},
   "source": [
    "# Math aggregations"
   ]
  },
  {
   "cell_type": "code",
   "execution_count": 15,
   "id": "2733902f-eecd-443b-b232-3bcfe589a117",
   "metadata": {},
   "outputs": [],
   "source": [
    "# min/max\n",
    "max_rating_df = movies_df \\\n",
    "  .select(\n",
    "    max(col(\"IMDB_Rating\")).alias(\"max value of IMDB Rating\"),\n",
    "    min(col(\"IMDB_Rating\")).alias(\"min value of IMDB Rating\")\n",
    "  )\n",
    "max_rating_df.show()"
   ]
  },
  {
   "cell_type": "code",
   "execution_count": 16,
   "id": "e795609c-8ad4-4951-9437-fbaea3810b58",
   "metadata": {},
   "outputs": [],
   "source": [
    "max_rating_df_v2 = movies_df \\\n",
    "  .selectExpr(\n",
    "    \"max(IMDB_Rating) max_rating\",\n",
    "    \"min(IMDB_Rating) as min_rating\"\n",
    "  )\n",
    "max_rating_df_v2.show()"
   ]
  },
  {
   "cell_type": "code",
   "execution_count": 17,
   "id": "f4a9795c-8eb6-4d07-9f96-90dc7306f9ab",
   "metadata": {},
   "outputs": [],
   "source": [
    "# сумма значений в столбце\n",
    "us_industry_total_df = movies_df \\\n",
    "  .select(\n",
    "    sum(col(\"US_Gross\")) \\\n",
    "      .alias(\"Sum US Gross\")\n",
    "  )\n",
    "us_industry_total_df.show()"
   ]
  },
  {
   "cell_type": "code",
   "execution_count": 18,
   "id": "b145dc18-fd28-4cb8-a35c-7bbce7e88748",
   "metadata": {},
   "outputs": [],
   "source": [
    "us_industry_total_df_v2 = movies_df.selectExpr(\"sum(US_Gross) as Sum_US_Gross\")\n",
    "us_industry_total_df_v2.show()"
   ]
  },
  {
   "cell_type": "code",
   "execution_count": 19,
   "id": "f86f5a56-eb8a-4569-9a80-3fe93e5689f4",
   "metadata": {},
   "outputs": [],
   "source": [
    "# avg\n",
    "avg_rt_rating_df = movies_df.select(avg(col(\"Rotten_Tomatoes_Rating\")).alias(\"Average Rotten Tomatoes Rating\"))\n",
    "avg_rt_rating_df.show()"
   ]
  },
  {
   "cell_type": "code",
   "execution_count": 19,
   "id": "a45b06a9-8a07-4e34-af51-c10248470bcf",
   "metadata": {},
   "outputs": [
    {
     "name": "stdout",
     "output_type": "stream",
     "text": [
      "+------------------------------+--------------------------------------------+\n",
      "|Mean of Rotten Tomatoes Rating|Standard Deviation in Rotten Tomatoes Rating|\n",
      "+------------------------------+--------------------------------------------+\n",
      "|             54.33692373976734|                           28.07659263787602|\n",
      "+------------------------------+--------------------------------------------+\n",
      "\n"
     ]
    }
   ],
   "source": [
    "# mean/standard dev\n",
    "rt_stats_df = movies_df.agg(\n",
    "    mean(col(\"Rotten_Tomatoes_Rating\")) \\\n",
    "      .alias(\"Mean of Rotten Tomatoes Rating\"),\n",
    "    stddev(col(\"Rotten_Tomatoes_Rating\")) \\\n",
    "      .alias(\"Standard Deviation in Rotten Tomatoes Rating\")\n",
    ")\n",
    "rt_stats_df.show()"
   ]
  },
  {
   "cell_type": "markdown",
   "id": "0792bcc0-89b3-41d9-bba0-371994a88f54",
   "metadata": {},
   "source": [
    "# Grouping"
   ]
  },
  {
   "cell_type": "code",
   "execution_count": 22,
   "id": "8e4a23a7-2e0c-402c-ac13-42400e7c14f3",
   "metadata": {},
   "outputs": [
    {
     "name": "stdout",
     "output_type": "stream",
     "text": [
      "+-------------------+-----+\n",
      "|        Major_Genre|count|\n",
      "+-------------------+-----+\n",
      "|          Adventure|  274|\n",
      "|               NULL|  275|\n",
      "|              Drama|  789|\n",
      "|        Documentary|   43|\n",
      "|       Black Comedy|   36|\n",
      "|  Thriller/Suspense|  239|\n",
      "|            Musical|   53|\n",
      "|    Romantic Comedy|  137|\n",
      "|Concert/Performance|    5|\n",
      "|             Horror|  219|\n",
      "|            Western|   36|\n",
      "|             Comedy|  675|\n",
      "|             Action|  420|\n",
      "+-------------------+-----+\n",
      "\n"
     ]
    }
   ],
   "source": [
    "# Группировка по колонке. NULL значения так же образуют группу\n",
    "count_by_genre_df = movies_df. \\\n",
    "    groupBy(\"Major_Genre\"). \\\n",
    "    count()\n",
    "\n",
    "count_by_genre_df.show()"
   ]
  },
  {
   "cell_type": "code",
   "execution_count": 23,
   "id": "ef8ae6d7-666d-4e77-92ec-705788eb6fbf",
   "metadata": {},
   "outputs": [
    {
     "name": "stdout",
     "output_type": "stream",
     "text": [
      "== Physical Plan ==\n",
      "AdaptiveSparkPlan isFinalPlan=false\n",
      "+- HashAggregate(keys=[Major_Genre#14], functions=[count(1)])\n",
      "   +- Exchange hashpartitioning(Major_Genre#14, 200), ENSURE_REQUIREMENTS, [plan_id=436]\n",
      "      +- HashAggregate(keys=[Major_Genre#14], functions=[partial_count(1)])\n",
      "         +- FileScan json [Major_Genre#14] Batched: false, DataFilters: [], Format: JSON, Location: InMemoryFileIndex(1 paths)[file:/home/jovyan/notebooks/data/movies], PartitionFilters: [], PushedFilters: [], ReadSchema: struct<Major_Genre:string>\n",
      "\n",
      "\n"
     ]
    }
   ],
   "source": [
    "count_by_genre_df.explain()"
   ]
  },
  {
   "cell_type": "code",
   "execution_count": 23,
   "id": "58bb5037-06ca-4fd9-958c-efc19e55c331",
   "metadata": {},
   "outputs": [],
   "source": [
    "# Операции над группами\n",
    "avg_rating_by_genre_df = movies_df. \\\n",
    "    groupBy(col(\"Major_Genre\")). \\\n",
    "    avg(\"IMDB_Rating\")\n",
    "\n",
    "avg_rating_by_genre_df.show()"
   ]
  },
  {
   "cell_type": "code",
   "execution_count": 24,
   "id": "51b54a1c-af2e-4a95-8e86-556fc6fd4e33",
   "metadata": {},
   "outputs": [],
   "source": [
    "avg_rating_by_genre_df.explain()"
   ]
  },
  {
   "cell_type": "code",
   "execution_count": 16,
   "id": "5e530c05-4533-4029-b948-ef7289d16fa5",
   "metadata": {},
   "outputs": [
    {
     "name": "stdout",
     "output_type": "stream",
     "text": [
      "+-------------------+--------+------------------+\n",
      "|        Major_Genre|N Movies|    Average Rating|\n",
      "+-------------------+--------+------------------+\n",
      "|          Adventure|     274| 6.345019920318729|\n",
      "|               NULL|     275|  6.50082644628099|\n",
      "|              Drama|     789| 6.773441734417339|\n",
      "|        Documentary|      43| 6.997297297297298|\n",
      "|       Black Comedy|      36|6.8187500000000005|\n",
      "|  Thriller/Suspense|     239| 6.360944206008582|\n",
      "|            Musical|      53|             6.448|\n",
      "|    Romantic Comedy|     137| 5.873076923076922|\n",
      "|Concert/Performance|       5|             6.325|\n",
      "|             Horror|     219|5.6760765550239185|\n",
      "|            Western|      36| 6.842857142857142|\n",
      "|             Comedy|     675| 5.853858267716529|\n",
      "|             Action|     420| 6.114795918367349|\n",
      "+-------------------+--------+------------------+\n",
      "\n"
     ]
    }
   ],
   "source": [
    "# Множетственные операции над группами\n",
    "aggregations_by_genre_df = movies_df. \\\n",
    "  groupBy(col(\"Major_Genre\")). \\\n",
    "  agg(\n",
    "    # use strings here for column names\n",
    "    count(\"*\") \\\n",
    "      .alias(\"N Movies\"),\n",
    "    avg(\"IMDB_Rating\") \\\n",
    "      .alias(\"Average Rating\")\n",
    "  )\n",
    "\n",
    "aggregations_by_genre_df.show()"
   ]
  },
  {
   "cell_type": "code",
   "execution_count": 17,
   "id": "cd6277f6-581a-4425-bdd7-aed855351fa0",
   "metadata": {},
   "outputs": [
    {
     "name": "stdout",
     "output_type": "stream",
     "text": [
      "== Physical Plan ==\n",
      "AdaptiveSparkPlan isFinalPlan=false\n",
      "+- HashAggregate(keys=[Major_Genre#14], functions=[count(1), avg(IMDB_Rating#11)])\n",
      "   +- Exchange hashpartitioning(Major_Genre#14, 200), ENSURE_REQUIREMENTS, [plan_id=372]\n",
      "      +- HashAggregate(keys=[Major_Genre#14], functions=[partial_count(1), partial_avg(IMDB_Rating#11)])\n",
      "         +- FileScan json [IMDB_Rating#11,Major_Genre#14] Batched: false, DataFilters: [], Format: JSON, Location: InMemoryFileIndex(1 paths)[file:/home/jovyan/notebooks/data/movies], PartitionFilters: [], PushedFilters: [], ReadSchema: struct<IMDB_Rating:double,Major_Genre:string>\n",
      "\n",
      "\n"
     ]
    }
   ],
   "source": [
    "aggregations_by_genre_df.explain()"
   ]
  },
  {
   "cell_type": "markdown",
   "id": "1ea11416-5017-4bdf-a4bd-acb01bdd3bb0",
   "metadata": {},
   "source": [
    "# Sorting"
   ]
  },
  {
   "cell_type": "code",
   "execution_count": 12,
   "id": "b36bc314-426e-48e7-85fc-230ac9136d45",
   "metadata": {},
   "outputs": [
    {
     "name": "stdout",
     "output_type": "stream",
     "text": [
      "+-----------+-------------------------------+\n",
      "|IMDB_Rating|Title                          |\n",
      "+-----------+-------------------------------+\n",
      "|9.2        |The Godfather                  |\n",
      "|9.2        |The Shawshank Redemption       |\n",
      "|9.1        |Inception                      |\n",
      "|9.0        |The Godfather: Part II         |\n",
      "|8.9        |Pulp Fiction                   |\n",
      "|8.9        |12 Angry Men                   |\n",
      "|8.9        |One Flew Over the Cuckoo's Nest|\n",
      "|8.9        |Schindler's List               |\n",
      "|8.9        |The Dark Knight                |\n",
      "|8.9        |Toy Story 3                    |\n",
      "+-----------+-------------------------------+\n",
      "only showing top 10 rows\n",
      "\n"
     ]
    }
   ],
   "source": [
    "# Числа, строки и даты можно сортировать\n",
    "best_movies_df = movies_df \\\n",
    "  .selectExpr(\"IMDB_Rating\", \"Title\") \\\n",
    "  .orderBy(col(\"IMDB_Rating\").desc())\n",
    "best_movies_df.show(10, False)"
   ]
  },
  {
   "cell_type": "code",
   "execution_count": 28,
   "id": "796170b0-d933-41ca-b0d0-6c412c22a17a",
   "metadata": {},
   "outputs": [],
   "source": [
    "# Сортировка с NULLS_FIRST\n",
    "proper_worst_movies_df = movies_df \\\n",
    "  .selectExpr(\"IMDB_Rating\", \"Title\") \\\n",
    "  .orderBy(col(\"IMDB_Rating\").desc_nulls_first())\n",
    "\n",
    "proper_worst_movies_df.show(10, False)"
   ]
  },
  {
   "cell_type": "markdown",
   "id": "976a34e6-8489-4b83-9dbb-b9137d82aac0",
   "metadata": {},
   "source": [
    "# Упражнения\n",
    "\n",
    "1. Получить общую кассу всех фильмов (сколько фильмы заработали все вместе)\n",
    "1. Посчитать общее колличество режиссеров (один режиссер мог снять несколько фильмов)\n",
    "1. Вычислить среднее (mean) и стандартное отклонение (stddev) для прибыли с американского проката (US_Gross)\n",
    "1. Для каждого режиссера вычислить средний (avg) рейтинг на IMDB и среднюю (avg) прибыль в американском прокате \n",
    "1. Вычислить среднюю (avg) разность между IMDB и Rotten Tomatoes рейтингами"
   ]
  },
  {
   "cell_type": "markdown",
   "id": "2bc8f76d-19ec-462d-be4a-a1514a33a3b5",
   "metadata": {},
   "source": [
    "# Joins"
   ]
  },
  {
   "cell_type": "code",
   "execution_count": 3,
   "id": "1260d375-0d89-4181-b85a-32262affa288",
   "metadata": {},
   "outputs": [
    {
     "name": "stdout",
     "output_type": "stream",
     "text": [
      "root\n",
      " |-- guitarType: string (nullable = true)\n",
      " |-- id: long (nullable = true)\n",
      " |-- make: string (nullable = true)\n",
      " |-- model: string (nullable = true)\n",
      "\n",
      "root\n",
      " |-- band: long (nullable = true)\n",
      " |-- guitars: array (nullable = true)\n",
      " |    |-- element: long (containsNull = true)\n",
      " |-- id: long (nullable = true)\n",
      " |-- name: string (nullable = true)\n",
      "\n",
      "root\n",
      " |-- hometown: string (nullable = true)\n",
      " |-- id: long (nullable = true)\n",
      " |-- name: string (nullable = true)\n",
      " |-- year: long (nullable = true)\n",
      "\n"
     ]
    }
   ],
   "source": [
    "guitars_df = spark.read.json(\"data/guitars\")\n",
    "guitar_players_df = spark.read.json(\"data/guitarPlayers\")\n",
    "bands_df = spark.read.json(\"data/bands\")\n",
    "guitars_df.printSchema()\n",
    "guitar_players_df.printSchema()\n",
    "bands_df.printSchema()"
   ]
  },
  {
   "cell_type": "code",
   "execution_count": 4,
   "id": "165cc952-886f-4275-9625-2f822541cd2a",
   "metadata": {},
   "outputs": [
    {
     "name": "stdout",
     "output_type": "stream",
     "text": [
      "+----+-------+---+------------+\n",
      "|band|guitars| id|        name|\n",
      "+----+-------+---+------------+\n",
      "|   0|    [0]|  0|  Jimmy Page|\n",
      "|   1|    [1]|  1| Angus Young|\n",
      "|   2| [1, 5]|  2|Eric Clapton|\n",
      "|   3|    [3]|  3|Kirk Hammett|\n",
      "+----+-------+---+------------+\n",
      "\n"
     ]
    }
   ],
   "source": [
    " guitar_players_df.show()"
   ]
  },
  {
   "cell_type": "code",
   "execution_count": 5,
   "id": "0c62090d-5fe0-4fa3-91d6-9a20094b2b83",
   "metadata": {},
   "outputs": [
    {
     "name": "stdout",
     "output_type": "stream",
     "text": [
      "+-----------+---+------------+----+\n",
      "|   hometown| id|        name|year|\n",
      "+-----------+---+------------+----+\n",
      "|     Sydney|  1|       AC/DC|1973|\n",
      "|     London|  0|Led Zeppelin|1968|\n",
      "|Los Angeles|  3|   Metallica|1981|\n",
      "|  Liverpool|  4| The Beatles|1960|\n",
      "+-----------+---+------------+----+\n",
      "\n"
     ]
    }
   ],
   "source": [
    "bands_df.show()"
   ]
  },
  {
   "cell_type": "code",
   "execution_count": 6,
   "id": "096c6d52-141d-434a-a39f-74ff2fd35bc6",
   "metadata": {},
   "outputs": [
    {
     "data": {
      "text/plain": [
       "Column<'(band = id)'>"
      ]
     },
     "execution_count": 6,
     "metadata": {},
     "output_type": "execute_result"
    }
   ],
   "source": [
    "join_condition = guitar_players_df.band == bands_df.id\n",
    "join_condition"
   ]
  },
  {
   "cell_type": "code",
   "execution_count": 7,
   "id": "0640d8bf-22dc-4ccc-bf58-42c3dd51119f",
   "metadata": {},
   "outputs": [
    {
     "name": "stdout",
     "output_type": "stream",
     "text": [
      "+----+-------+---+------------+-----------+---+------------+----+\n",
      "|band|guitars| id|        name|   hometown| id|        name|year|\n",
      "+----+-------+---+------------+-----------+---+------------+----+\n",
      "|   1|    [1]|  1| Angus Young|     Sydney|  1|       AC/DC|1973|\n",
      "|   0|    [0]|  0|  Jimmy Page|     London|  0|Led Zeppelin|1968|\n",
      "|   3|    [3]|  3|Kirk Hammett|Los Angeles|  3|   Metallica|1981|\n",
      "+----+-------+---+------------+-----------+---+------------+----+\n",
      "\n"
     ]
    }
   ],
   "source": [
    "# INNER JOIN: все строки, которые есть и в \"правом\", и в \"левом\" множестве, для которых верно условие\n",
    "\n",
    "guitarists_bands_df = guitar_players_df \\\n",
    "  .join(\n",
    "    bands_df,\n",
    "    join_condition,\n",
    "    # \"inner\" # <-- 'inner' == Default\n",
    "  )\n",
    "\n",
    "guitarists_bands_df.show()"
   ]
  },
  {
   "cell_type": "code",
   "execution_count": 8,
   "id": "44b41663-0d88-4d3d-a181-fbdb7379672d",
   "metadata": {},
   "outputs": [
    {
     "name": "stdout",
     "output_type": "stream",
     "text": [
      "== Physical Plan ==\n",
      "AdaptiveSparkPlan isFinalPlan=false\n",
      "+- BroadcastHashJoin [band#24L], [id#41L], Inner, BuildLeft, false\n",
      "   :- BroadcastExchange HashedRelationBroadcastMode(List(input[0, bigint, false]),false), [plan_id=129]\n",
      "   :  +- Filter isnotnull(band#24L)\n",
      "   :     +- FileScan json [band#24L,guitars#25,id#26L,name#27] Batched: false, DataFilters: [isnotnull(band#24L)], Format: JSON, Location: InMemoryFileIndex(1 paths)[file:/home/jovyan/notebooks/data/guitarPlayers], PartitionFilters: [], PushedFilters: [IsNotNull(band)], ReadSchema: struct<band:bigint,guitars:array<bigint>,id:bigint,name:string>\n",
      "   +- Filter isnotnull(id#41L)\n",
      "      +- FileScan json [hometown#40,id#41L,name#42,year#43L] Batched: false, DataFilters: [isnotnull(id#41L)], Format: JSON, Location: InMemoryFileIndex(1 paths)[file:/home/jovyan/notebooks/data/bands], PartitionFilters: [], PushedFilters: [IsNotNull(id)], ReadSchema: struct<hometown:string,id:bigint,name:string,year:bigint>\n",
      "\n",
      "\n"
     ]
    }
   ],
   "source": [
    "guitarists_bands_df.explain()"
   ]
  },
  {
   "cell_type": "code",
   "execution_count": 20,
   "id": "fb5e4f31-323c-4a15-ba8b-94d4e49c182d",
   "metadata": {},
   "outputs": [
    {
     "data": {
      "text/plain": [
       "Column<'(band = id)'>"
      ]
     },
     "execution_count": 20,
     "metadata": {},
     "output_type": "execute_result"
    }
   ],
   "source": [
    "join_condition"
   ]
  },
  {
   "cell_type": "code",
   "execution_count": 55,
   "id": "00fea787-4ee7-4e9d-9be6-ca217f9227b3",
   "metadata": {},
   "outputs": [],
   "source": [
    "# Привести колонку \"name\" к верхнему регистру\n",
    "# Обратите внимание, что `guitarists_bands_df` строится на базе `bands_df`, поэтому можно использовать его колонки\n",
    "guitarists_bands_upper_df = guitarists_bands_df.select(upper(bands_df.name))\n",
    "guitarists_bands_upper_df.show()"
   ]
  },
  {
   "cell_type": "code",
   "execution_count": 56,
   "id": "73f01640-f1ef-450f-bb75-ed5bbe1e4799",
   "metadata": {},
   "outputs": [],
   "source": [
    "guitarists_bands_upper_df.explain()"
   ]
  },
  {
   "cell_type": "code",
   "execution_count": 35,
   "id": "af6aa573-6e85-42de-ad6a-3b251e088643",
   "metadata": {},
   "outputs": [
    {
     "name": "stdout",
     "output_type": "stream",
     "text": [
      "+----+-------+---+------------+-----------+----+------------+----+\n",
      "|band|guitars| id|        name|   hometown|  id|        name|year|\n",
      "+----+-------+---+------------+-----------+----+------------+----+\n",
      "|   0|    [0]|  0|  Jimmy Page|     London|   0|Led Zeppelin|1968|\n",
      "|   1|    [1]|  1| Angus Young|     Sydney|   1|       AC/DC|1973|\n",
      "|   2| [1, 5]|  2|Eric Clapton|       NULL|NULL|        NULL|NULL|\n",
      "|   3|    [3]|  3|Kirk Hammett|Los Angeles|   3|   Metallica|1981|\n",
      "+----+-------+---+------------+-----------+----+------------+----+\n",
      "\n"
     ]
    }
   ],
   "source": [
    "# left outer = все строки с лева, для которых условие верно. Если строки с таким ключом нет в правом множестве, то поставить null\n",
    "guitar_players_df \\\n",
    "  .join(\n",
    "    bands_df,\n",
    "    join_condition,\n",
    "    \"left_outer\"\n",
    "  ) \\\n",
    "  .show()"
   ]
  },
  {
   "cell_type": "code",
   "execution_count": 36,
   "id": "f8d1ff20-e573-4b1d-81c6-093f55883229",
   "metadata": {},
   "outputs": [
    {
     "name": "stdout",
     "output_type": "stream",
     "text": [
      "+----+-------+----+------------+-----------+---+------------+----+\n",
      "|band|guitars|  id|        name|   hometown| id|        name|year|\n",
      "+----+-------+----+------------+-----------+---+------------+----+\n",
      "|   0|    [0]|   0|  Jimmy Page|     London|  0|Led Zeppelin|1968|\n",
      "|   1|    [1]|   1| Angus Young|     Sydney|  1|       AC/DC|1973|\n",
      "|   3|    [3]|   3|Kirk Hammett|Los Angeles|  3|   Metallica|1981|\n",
      "|NULL|   NULL|NULL|        NULL|  Liverpool|  4| The Beatles|1960|\n",
      "+----+-------+----+------------+-----------+---+------------+----+\n",
      "\n"
     ]
    }
   ],
   "source": [
    "# Right outer = все строки с права, для которых условие верно. Если строки с таким ключом нет в левом множестве, то поставить null\n",
    "guitar_players_df \\\n",
    "  .join(\n",
    "    bands_df,\n",
    "    join_condition,\n",
    "    \"right_outer\"\n",
    "  ) \\\n",
    "  .show()"
   ]
  },
  {
   "cell_type": "code",
   "execution_count": 37,
   "id": "038d3cf8-8996-4f91-892d-ad4a729a0e8b",
   "metadata": {},
   "outputs": [
    {
     "name": "stdout",
     "output_type": "stream",
     "text": [
      "== Physical Plan ==\n",
      "AdaptiveSparkPlan isFinalPlan=false\n",
      "+- SortMergeJoin [band#636L], [id#653L], FullOuter\n",
      "   :- Sort [band#636L ASC NULLS FIRST], false, 0\n",
      "   :  +- Exchange hashpartitioning(band#636L, 200), ENSURE_REQUIREMENTS, [plan_id=965]\n",
      "   :     +- FileScan json [band#636L,guitars#637,id#638L,name#639] Batched: false, DataFilters: [], Format: JSON, Location: InMemoryFileIndex(1 paths)[file:/home/jovyan/notebooks/data/guitarPlayers], PartitionFilters: [], PushedFilters: [], ReadSchema: struct<band:bigint,guitars:array<bigint>,id:bigint,name:string>\n",
      "   +- Sort [id#653L ASC NULLS FIRST], false, 0\n",
      "      +- Exchange hashpartitioning(id#653L, 200), ENSURE_REQUIREMENTS, [plan_id=966]\n",
      "         +- FileScan json [hometown#652,id#653L,name#654,year#655L] Batched: false, DataFilters: [], Format: JSON, Location: InMemoryFileIndex(1 paths)[file:/home/jovyan/notebooks/data/bands], PartitionFilters: [], PushedFilters: [], ReadSchema: struct<hometown:string,id:bigint,name:string,year:bigint>\n",
      "\n",
      "\n"
     ]
    }
   ],
   "source": [
    "# full outer join = все строки справа и с лева, для которых верно условие, поставить NULL если строки с соответствующим ключом нет в правом или в левом множестве\n",
    "guitar_players_df \\\n",
    "  .join(\n",
    "    bands_df,\n",
    "    join_condition,\n",
    "    \"outer\"\n",
    "  ) \\\n",
    "  .explain()"
   ]
  },
  {
   "cell_type": "code",
   "execution_count": 61,
   "id": "438b7b56-c3ba-4b62-8437-8d63092c8038",
   "metadata": {},
   "outputs": [],
   "source": [
    "# Соединить по одной колонке\n",
    "guitar_players_df \\\n",
    "  .join(\n",
    "    bands_df,\n",
    "    \"id\"\n",
    "  ) \\\n",
    "  .show()"
   ]
  },
  {
   "cell_type": "code",
   "execution_count": 26,
   "id": "1a43b005-ef07-451c-a038-2f3d1679fbbb",
   "metadata": {},
   "outputs": [
    {
     "name": "stdout",
     "output_type": "stream",
     "text": [
      "+----+-------+---+------------+\n",
      "|band|guitars| id|        name|\n",
      "+----+-------+---+------------+\n",
      "|   0|    [0]|  0|  Jimmy Page|\n",
      "|   1|    [1]|  1| Angus Young|\n",
      "|   3|    [3]|  3|Kirk Hammett|\n",
      "+----+-------+---+------------+\n",
      "\n"
     ]
    }
   ],
   "source": [
    "# left semi joins = все элементы в левом множестве, для которых есть соответствующий элемент в правом множестве для которого верно условие\n",
    "# Похоже на фильтр\n",
    "# Эквивалентный SQL (колонок из правого множества нет): select * from guitar_players WHERE EXISTS (...)\n",
    "guitar_players_df \\\n",
    "  .join(\n",
    "    bands_df,\n",
    "    join_condition,\n",
    "    \"left_semi\"\n",
    "  ) \\\n",
    "  .show()"
   ]
  },
  {
   "cell_type": "code",
   "execution_count": 27,
   "id": "2e626261-861c-4225-ba72-5b2654f504d4",
   "metadata": {},
   "outputs": [
    {
     "name": "stdout",
     "output_type": "stream",
     "text": [
      "+----+-------+---+------------+\n",
      "|band|guitars| id|        name|\n",
      "+----+-------+---+------------+\n",
      "|   2| [1, 5]|  2|Eric Clapton|\n",
      "+----+-------+---+------------+\n",
      "\n"
     ]
    }
   ],
   "source": [
    "# Исключить из левого множества каждую строку, для ключа которой есть строка с таким ключом в правом множестве\n",
    "# Похоже на разность множеств\n",
    "guitar_players_df \\\n",
    "  .join(\n",
    "    bands_df,\n",
    "    join_condition,\n",
    "    \"left_anti\"\n",
    "  ) \\\n",
    "  .show()"
   ]
  },
  {
   "cell_type": "code",
   "execution_count": 63,
   "id": "8fcb81e5-4d15-4448-85aa-1d76a182e96f",
   "metadata": {},
   "outputs": [],
   "source": [
    "driver = \"org.postgresql.Driver\"\n",
    "url = \"jdbc:postgresql://postgres:5432/spark\"\n",
    "user = \"docker\"\n",
    "password = \"docker\""
   ]
  },
  {
   "cell_type": "code",
   "execution_count": 64,
   "id": "88665080-68f7-4e4d-b6cd-6640a4dce5b9",
   "metadata": {},
   "outputs": [],
   "source": [
    "def read_table(table_name):\n",
    "    return spark.read. \\\n",
    "        format(\"jdbc\"). \\\n",
    "        option(\"driver\", driver). \\\n",
    "        option(\"url\", url). \\\n",
    "        option(\"user\", user). \\\n",
    "        option(\"password\", password). \\\n",
    "        option(\"dbtable\", \"public.\" + table_name). \\\n",
    "        load()\n",
    "\n",
    "employees_df = read_table(\"employees\")\n",
    "salaries_df = read_table(\"salaries\")\n",
    "dept_managers_df = read_table(\"dept_manager\")\n",
    "dept_emp_df = read_table(\"dept_emp\")\n",
    "departments_df = read_table(\"departments\")"
   ]
  },
  {
   "cell_type": "code",
   "execution_count": 65,
   "id": "09a80ba8-25a6-401e-9017-c75ea59fbcf4",
   "metadata": {},
   "outputs": [],
   "source": [
    "all_df = employees_df \\\n",
    "  .join(dept_emp_df, \"emp_no\") \\\n",
    "  .join(F.broadcast(departments_df), \"dept_no\") \\\n",
    "  .join(salaries_df, \"emp_no\")\n",
    "\n",
    "all_df.show(10)\n",
    "all_df.explain()"
   ]
  },
  {
   "cell_type": "markdown",
   "id": "35a8aca3-408b-4f14-b7f3-ec6f1ee01460",
   "metadata": {},
   "source": [
    "# Задания\n",
    "\n",
    "Загрузить следующие таблицы из базы данных Postgres: `employees`, `salaries`, `dept_emp`\n",
    "\n",
    "1. Получить список всех сотрудников и их максимальные зарплаты\n",
    "1. Получить список всех сотрудников, кто никогда не был менеджером\n",
    "1. Для каждого сотрудника, найти разницу между их зарплатой (текущей/последней) и максимальной зарплатой в их отделе"
   ]
  },
  {
   "cell_type": "code",
   "execution_count": null,
   "id": "f3e25995-b0a1-47ef-bd86-5629a2741598",
   "metadata": {},
   "outputs": [],
   "source": []
  }
 ],
 "metadata": {
  "kernelspec": {
   "display_name": "Python 3 (ipykernel)",
   "language": "python",
   "name": "python3"
  },
  "language_info": {
   "codemirror_mode": {
    "name": "ipython",
    "version": 3
   },
   "file_extension": ".py",
   "mimetype": "text/x-python",
   "name": "python",
   "nbconvert_exporter": "python",
   "pygments_lexer": "ipython3",
   "version": "3.11.6"
  }
 },
 "nbformat": 4,
 "nbformat_minor": 5
}
